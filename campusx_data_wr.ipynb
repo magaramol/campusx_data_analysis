{
  "nbformat": 4,
  "nbformat_minor": 0,
  "metadata": {
    "colab": {
      "provenance": [],
      "mount_file_id": "1otCtW8g82YHHoSzU6Q2cPBHE584vWKiq",
      "authorship_tag": "ABX9TyNJ5uzHau0QobaQK25TIOYt",
      "include_colab_link": true
    },
    "kernelspec": {
      "name": "python3",
      "display_name": "Python 3"
    },
    "language_info": {
      "name": "python"
    }
  },
  "cells": [
    {
      "cell_type": "markdown",
      "metadata": {
        "id": "view-in-github",
        "colab_type": "text"
      },
      "source": [
        "<a href=\"https://colab.research.google.com/github/magaramol/campusx_data_analysis/blob/main/campusx_data_wr.ipynb\" target=\"_parent\"><img src=\"https://colab.research.google.com/assets/colab-badge.svg\" alt=\"Open In Colab\"/></a>"
      ]
    },
    {
      "cell_type": "code",
      "execution_count": 15,
      "metadata": {
        "id": "NlDb7Z8ivjLZ"
      },
      "outputs": [],
      "source": [
        "import pandas as pd"
      ]
    },
    {
      "cell_type": "code",
      "source": [
        "patients = pd.read_csv('/content/drive/MyDrive/colaaab/Campusx_data/patients.csv')\n",
        "treatments = pd.read_csv('/content/drive/MyDrive/colaaab/Campusx_data/treatments.csv')\n",
        "adverse_reactions = pd.read_csv('/content/drive/MyDrive/colaaab/Campusx_data/adverse_reactions.csv')\n",
        "treatment_cut = pd.read_csv('/content/drive/MyDrive/colaaab/Campusx_data/treatments_cut.csv')\n"
      ],
      "metadata": {
        "id": "uerJPszdwbxd"
      },
      "execution_count": 16,
      "outputs": []
    },
    {
      "cell_type": "code",
      "source": [
        "# export to excel"
      ],
      "metadata": {
        "id": "D5CL8__2xGx4"
      },
      "execution_count": 17,
      "outputs": []
    },
    {
      "cell_type": "code",
      "source": [
        "with pd.ExcelWriter('/content/drive/MyDrive/colaaab/Campusx_data/clinical_trials.xlsx') as writer:\n",
        "    patients.to_excel(writer, sheet_name='patients')\n",
        "    treatments.to_excel(writer, sheet_name='treatments')\n",
        "    treatment_cut.to_excel(writer, sheet_name='treatment_cut')\n",
        "    adverse_reactions.to_excel(writer, sheet_name='adverse_reactions')\n"
      ],
      "metadata": {
        "id": "pEqE2UvXxMJ4"
      },
      "execution_count": 19,
      "outputs": []
    },
    {
      "cell_type": "code",
      "source": [],
      "metadata": {
        "id": "UTVBwXzBxMtT"
      },
      "execution_count": null,
      "outputs": []
    }
  ]
}